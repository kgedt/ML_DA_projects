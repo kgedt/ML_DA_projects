{
 "cells": [
  {
   "cell_type": "code",
   "execution_count": 2,
   "id": "787cc8e7-8bd4-410e-94d9-d8f06f91d54a",
   "metadata": {},
   "outputs": [],
   "source": [
    "import numpy as np\n",
    "import pandas as pd\n",
    "import matplotlib.pyplot as plt"
   ]
  },
  {
   "cell_type": "markdown",
   "id": "9f9e62ef-bf31-403f-995a-b33dc1182f37",
   "metadata": {},
   "source": [
    "Вычисления\n",
    "1) Сформируем данные и отсортируем их в порядке возрастания\n",
    "2) Вычислим 1-й, 2-й(медиана), 3й квартили и межквартильный размах\n",
    "3) Определим минимальные и максимальные значения boxplot'а, остальное — выбросы"
   ]
  },
  {
   "cell_type": "code",
   "execution_count": 3,
   "id": "317ab13d-d7bf-4138-a9e3-a36ec0997922",
   "metadata": {},
   "outputs": [],
   "source": [
    "data = np.array([34, 45, 73, 36, 50, 52, 16, 27, 30, 60, 24, 27, 28, 29, 46, 71, 72])\n",
    "outliers = np.array([])\n",
    "median, Q1, Q3, IQR = [float()] * 4\n",
    "data.sort()\n",
    "median = np.quantile(data, .5) # медиана по сути — 2-й квантиль (50%)\n",
    "Q1 = np.quantile(data, .25)\n",
    "Q3 = np.quantile(data, .75)\n",
    "IQR = Q3 - Q1\n",
    "min_max = [Q1 - 1.5*IQR, Q3 + 1.5*IQR]\n",
    "for value in data:\n",
    "    if min_max[0] > value > min_max[1]:\n",
    "        np.append(outliers, value)"
   ]
  },
  {
   "cell_type": "markdown",
   "id": "b36fafa9-ceb2-49e9-8a71-119d3b8782c0",
   "metadata": {},
   "source": [
    "Вывод основной информации и самого стилизованного boxplot'а\n",
    "\n",
    "(!) Можно заметить, что выбросы не наблюдаются и наши данные находятся в пределах межквартильного размаха"
   ]
  },
  {
   "cell_type": "code",
   "execution_count": 4,
   "id": "8d6fcc1f-d50f-4f18-9275-05266e5b50fd",
   "metadata": {},
   "outputs": [
    {
     "name": "stdout",
     "output_type": "stream",
     "text": [
      "sorted data=[16 24 27 27 28 29 30 34 36 45 46 50 52 60 71 72 73]\n",
      "median=36.0\n",
      "Q1=28.0\n",
      "Q3=52.0\n",
      "IQR=24.0\n",
      "min=-8.0\n",
      "max=88.0\n",
      "outliers=[]\n"
     ]
    },
    {
     "data": {
      "image/png": "[encoded data removed]",
      "text/plain": [
       "<Figure size 1000x700 with 1 Axes>"
      ]
     },
     "metadata": {},
     "output_type": "display_data"
    }
   ],
   "source": [
    "print(f'''sorted data={data}\n",
    "median={median}\n",
    "Q1={Q1}\n",
    "Q3={Q3}\n",
    "IQR={IQR}\n",
    "min={min_max[0]}\n",
    "max={min_max[1]}\n",
    "outliers={outliers}''')\n",
    "\n",
    "width = 3 # толщина линий\n",
    "fig = plt.figure(figsize=(10, 7), facecolor='gray')\n",
    "ax = fig.add_subplot(facecolor='beige', xlabel='DATA RANGE')\n",
    "bp = ax.boxplot(data, vert=False)\n",
    "\n",
    "bp['boxes'][0].set(color='orange',\n",
    "                  linewidth=width)\n",
    "for whisker in bp['whiskers']:\n",
    "    whisker.set(color='#ff0000',\n",
    "                linewidth=width,\n",
    "                linestyle='-.')\n",
    "    \n",
    "for cap in bp['caps']:\n",
    "    cap.set(color='violet',\n",
    "            linewidth=width)"
   ]
  }
 ],
 "metadata": {
  "kernelspec": {
   "display_name": "Python 3",
   "language": "python",
   "name": "python3"
  },
  "language_info": {
   "codemirror_mode": {
    "name": "ipython",
    "version": 3
   },
   "file_extension": ".py",
   "mimetype": "text/x-python",
   "name": "python",
   "nbconvert_exporter": "python",
   "pygments_lexer": "ipython3",
   "version": "3.11.1"
  },
  "vscode": {
   "interpreter": {
    "hash": "31588f4d8db5afbc72e0dbd1f4a0fd0b05fdd2de9b12b750bc3d928cd9a0951c"
   }
  }
 },
 "nbformat": 4,
 "nbformat_minor": 5
}
