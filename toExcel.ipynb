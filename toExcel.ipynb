{
 "cells": [
  {
   "cell_type": "code",
   "execution_count": 134,
   "metadata": {},
   "outputs": [],
   "source": [
    "import numpy as np\n",
    "\n",
    "def my_sd(data : list) -> int:\n",
    "    top = 0\n",
    "    data_mean = np.mean(data)\n",
    "    for i in data:\n",
    "        top += (i - data_mean)**2\n",
    "    \n",
    "    top = top / (len(data) - 1)\n",
    "    return top**0.5"
   ]
  },
  {
   "cell_type": "code",
   "execution_count": 135,
   "metadata": {},
   "outputs": [
    {
     "data": {
      "text/plain": [
       "[101.4, 103.3, 101.6, 111.6, 98.4, 95.0, 93.6]"
      ]
     },
     "execution_count": 135,
     "metadata": {},
     "output_type": "execute_result"
    }
   ],
   "source": [
    "data = '101.4, 103.3, 101.6, 111.6, 98.4, 95.0, 93.6'.split(',')\n",
    "for i in range(len(data)):\n",
    "    data[i] = float(data[i].strip())\n",
    "\n",
    "\n",
    "data"
   ]
  },
  {
   "cell_type": "code",
   "execution_count": 137,
   "metadata": {},
   "outputs": [
    {
     "name": "stdout",
     "output_type": "stream",
     "text": [
      "mean=100.7\n",
      "sd=5.986930209492451\n",
      "n=7\n",
      "Z=3.707\n"
     ]
    }
   ],
   "source": [
    "mean = np.mean(data)\n",
    "print(f'mean={mean}')\n",
    "\n",
    "sd = my_sd(data)\n",
    "print(f'sd={sd}')\n",
    "\n",
    "n = len(data)\n",
    "\n",
    "Z = 3.707\n",
    "\n",
    "print(f'n={n}')\n",
    "\n",
    "print(f'Z={Z}')\n",
    "\n",
    "SEM = sd/np.sqrt(len(data))\n",
    "\n"
   ]
  },
  {
   "cell_type": "code",
   "execution_count": 138,
   "metadata": {},
   "outputs": [],
   "source": [
    "interval = [None, None]\n",
    "left = 0\n",
    "right = 1\n",
    "\n"
   ]
  },
  {
   "cell_type": "code",
   "execution_count": 139,
   "metadata": {},
   "outputs": [],
   "source": [
    "interval[left] = mean - Z*SEM\n",
    "interval[right] = mean + Z*SEM"
   ]
  },
  {
   "cell_type": "code",
   "execution_count": 140,
   "metadata": {},
   "outputs": [
    {
     "data": {
      "text/plain": [
       "[92.3116264617258, 109.08837353827421]"
      ]
     },
     "execution_count": 140,
     "metadata": {},
     "output_type": "execute_result"
    }
   ],
   "source": [
    "interval"
   ]
  },
  {
   "cell_type": "code",
   "execution_count": null,
   "metadata": {},
   "outputs": [],
   "source": []
  },
  {
   "cell_type": "code",
   "execution_count": null,
   "metadata": {},
   "outputs": [],
   "source": []
  },
  {
   "cell_type": "code",
   "execution_count": null,
   "metadata": {},
   "outputs": [],
   "source": []
  },
  {
   "cell_type": "code",
   "execution_count": null,
   "metadata": {},
   "outputs": [],
   "source": []
  },
  {
   "cell_type": "code",
   "execution_count": null,
   "metadata": {},
   "outputs": [],
   "source": []
  },
  {
   "cell_type": "code",
   "execution_count": null,
   "metadata": {},
   "outputs": [],
   "source": []
  },
  {
   "cell_type": "code",
   "execution_count": null,
   "metadata": {},
   "outputs": [],
   "source": []
  }
 ],
 "metadata": {
  "kernelspec": {
   "display_name": "Python 3",
   "language": "python",
   "name": "python3"
  },
  "language_info": {
   "codemirror_mode": {
    "name": "ipython",
    "version": 3
   },
   "file_extension": ".py",
   "mimetype": "text/x-python",
   "name": "python",
   "nbconvert_exporter": "python",
   "pygments_lexer": "ipython3",
   "version": "3.11.1"
  },
  "orig_nbformat": 4,
  "vscode": {
   "interpreter": {
    "hash": "31588f4d8db5afbc72e0dbd1f4a0fd0b05fdd2de9b12b750bc3d928cd9a0951c"
   }
  }
 },
 "nbformat": 4,
 "nbformat_minor": 2
}
