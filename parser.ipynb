{
 "cells": [
  {
   "cell_type": "code",
   "execution_count": 2,
   "metadata": {},
   "outputs": [],
   "source": [
    "import pandas as pd"
   ]
  },
  {
   "cell_type": "code",
   "execution_count": 39,
   "metadata": {},
   "outputs": [
    {
     "name": "stdout",
     "output_type": "stream",
     "text": [
      "[11534, 14784, 3892, 35528, 3772, 13796, 1358, 3649, 1312, 2879, 2745]\n",
      "[73, 72, 62, 41, 68, 26, 68, 63, 60, 50, 61]\n"
     ]
    }
   ],
   "source": [
    "data = '''73 11534\n",
    "72 14784\n",
    "62 3892\n",
    "41 35528\n",
    "68 3772\n",
    "26 13796\n",
    "68 1358\n",
    "63 3649\n",
    "60 1312\n",
    "50 2879\n",
    "61 2745'''\n",
    "# data = data.split('\\n')\n",
    "#data = ' '.join(data)\n",
    "data = data.split()\n",
    "columns_number = 2\n",
    "rows_number = int(len(data)/columns_number)\n",
    "fixed_data = list()\n",
    "\n",
    "begin = 0\n",
    "end = columns_number\n",
    "\n",
    "for i in range(rows_number):\n",
    "    fixed_data.append(data[begin:end])\n",
    "    begin += columns_number\n",
    "    end += columns_number\n",
    "\n",
    "fixed_data\n",
    "percentage_guilty_plea = [int(i[0]) for i in fixed_data]\n",
    "number_criminal_cases = [int(i[1]) for i in fixed_data]\n",
    "print(number_criminal_cases)\n",
    "print(percentage_guilty_plea)"
   ]
  }
 ],
 "metadata": {
  "kernelspec": {
   "display_name": "Python 3",
   "language": "python",
   "name": "python3"
  },
  "language_info": {
   "codemirror_mode": {
    "name": "ipython",
    "version": 3
   },
   "file_extension": ".py",
   "mimetype": "text/x-python",
   "name": "python",
   "nbconvert_exporter": "python",
   "pygments_lexer": "ipython3",
   "version": "3.11.1"
  },
  "orig_nbformat": 4,
  "vscode": {
   "interpreter": {
    "hash": "31588f4d8db5afbc72e0dbd1f4a0fd0b05fdd2de9b12b750bc3d928cd9a0951c"
   }
  }
 },
 "nbformat": 4,
 "nbformat_minor": 2
}
