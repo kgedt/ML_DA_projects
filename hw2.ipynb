{
 "cells": [
  {
   "cell_type": "code",
   "execution_count": 53,
   "metadata": {},
   "outputs": [],
   "source": [
    "import numpy as np\n",
    "import pandas as pd, openpyxl\n",
    "import statistics\n",
    "import matplotlib.pyplot as plt"
   ]
  },
  {
   "attachments": {},
   "cell_type": "markdown",
   "metadata": {},
   "source": [
    "# 3.2 Sample mean\n",
    "\n",
    "1. The following data represent the scores on a statistics examination of a sample of students:  \n",
    "87, 63, 91, 72, 80, 77, 93, 69, 75, 79, 70, 83, 94, 75, 88\n",
    "\n",
    "What is sample mean?  \n",
    "### **ANSWER: 79.73**"
   ]
  },
  {
   "cell_type": "code",
   "execution_count": 3,
   "metadata": {},
   "outputs": [
    {
     "name": "stdout",
     "output_type": "stream",
     "text": [
      "sample mean = 79.73\n"
     ]
    }
   ],
   "source": [
    "data = [87, 63, 91, 72, 80, 77, 93, 69, 75, 79, 70, 83, 94, 75, 88]\n",
    "n = len(data) # количество значений\n",
    "summary_scores = sum(data)\n",
    "sample_mean = summary_scores/n\n",
    "sample_mean = np.round(sample_mean, 2)\n",
    "print(f'sample mean = {sample_mean}')"
   ]
  },
  {
   "attachments": {},
   "cell_type": "markdown",
   "metadata": {},
   "source": [
    "3. The following data give the annual average number of inches of precipitation and the average number of days of precipitation in a sample of cities\n",
    "\n",
    "(a) Find the sample mean of the average number of inches of precipitation.  \n",
    "### **ANSWER: 33.0 inches**  \n",
    "(b) Find the sample mean of the average number of days of precipitation.  \n",
    "### **ANSWER: 102.38 days**  "
   ]
  },
  {
   "cell_type": "code",
   "execution_count": 4,
   "metadata": {},
   "outputs": [
    {
     "name": "stdout",
     "output_type": "stream",
     "text": [
      "precipitation sample mean = 33.0 inches\n",
      "days sample mean = 102.38 days\n"
     ]
    }
   ],
   "source": [
    "precipitation_data = [35.74, 31.50, 11.43, 15.31, 19.59, 44.76, 47.29, 12.08, 57.55, 59.74, 36.30, 29.13, 28.61]\n",
    "days_data = [134, 83, 95, 88, 100, 105, 127, 36, 129, 114, 154, 81, 85]\n",
    "\n",
    "n_precipitation = len(precipitation_data)\n",
    "n_days = len(days_data)\n",
    "\n",
    "sum_precipitation = sum(precipitation_data)\n",
    "sum_days = sum(days_data)\n",
    "\n",
    "precipitation_sample_mean = np.round(sum_precipitation/n_precipitation, 2) # округление до сотых\n",
    "days_sample_mean = np.round(sum_days/n_days, 2)\n",
    "\n",
    "print(f'precipitation sample mean = {precipitation_sample_mean} inches')\n",
    "print(f'days sample mean = {days_sample_mean} days')"
   ]
  },
  {
   "attachments": {},
   "cell_type": "markdown",
   "metadata": {},
   "source": [
    "5. The sample mean of the weights of the adult women of town A is larger than the sample mean of the weights of the adult women of town B. Moreover, the sample mean of the weights of the adult men of town A is larger than the sample mean of the weights of the adult men of town B. Can we conclude that the sample mean of the weights of the adults of town A is larger than the sample mean of the weights of the adults of town B? Explain your answer\n",
    "\n",
    "### **ANSWER: No, because it depends on the number of people in the samples**"
   ]
  },
  {
   "attachments": {},
   "cell_type": "markdown",
   "metadata": {},
   "source": [
    "7. The following table gives the number of cases of tetanus in the\n",
    "27-country European community in the years from 1996 to 2004. \n",
    "\n",
    "Find the sample mean of these 27 × 11 = 297 data values.  \n",
    "### **ANSWER: 8.09**"
   ]
  },
  {
   "cell_type": "code",
   "execution_count": 5,
   "metadata": {},
   "outputs": [
    {
     "name": "stdout",
     "output_type": "stream",
     "text": [
      "sample mean = 8.09\n"
     ]
    }
   ],
   "source": [
    "data = [352, 309, 290, 288, 263, 220, 188, 219, 177, 98]\n",
    "sum_data = sum(data)\n",
    "n = 27*11\n",
    "sample_mean = np.round(sum_data/n, 2)\n",
    "print(f'sample mean = {sample_mean}')"
   ]
  },
  {
   "attachments": {},
   "cell_type": "markdown",
   "metadata": {},
   "source": [
    "9. Find the sample mean for this data set:\n",
    "1, 2, 4, 7, 10, 12 **ANSWER: 6**\n",
    "\n",
    "Now find the sample means for the data sets\n",
    "3, 6, 12, 21, 30, 36 and 6, 7, 9, 12, 15, 17  \n",
    "### **ANSWER: 18, 11**"
   ]
  },
  {
   "cell_type": "code",
   "execution_count": 6,
   "metadata": {},
   "outputs": [
    {
     "name": "stdout",
     "output_type": "stream",
     "text": [
      "first sample mean = 6.0\n",
      "second sample mean = 18.0\n",
      "third sample mean = 11.0\n"
     ]
    }
   ],
   "source": [
    "first_data = [1, 2, 4, 7, 10, 12]\n",
    "second_data = [3, 6, 12, 21, 30, 36]\n",
    "third_data = [6, 7, 9, 12, 15, 17]\n",
    "\n",
    "first_sm = np.round(sum(first_data)/len(first_data), 2)\n",
    "second_sm = np.round(sum(second_data)/len(second_data), 2)\n",
    "third_sm = np.round(sum(third_data)/len(third_data), 2)\n",
    "\n",
    "print(f'first sample mean = {first_sm}')\n",
    "print(f'second sample mean = {second_sm}')\n",
    "print(f'third sample mean = {third_sm}')"
   ]
  },
  {
   "attachments": {},
   "cell_type": "markdown",
   "metadata": {},
   "source": [
    "11. The following data give the total number of fires in Ontario, Canada,\n",
    "in the months of 2002:\n",
    "\n",
    "6, 13, 5, 7, 7, 3, 7, 2, 5, 6, 9, 8\n",
    "\n",
    "\n",
    "Find the sample mean of this data set  \n",
    "### **ANSWER: 6.5**"
   ]
  },
  {
   "cell_type": "code",
   "execution_count": 7,
   "metadata": {},
   "outputs": [
    {
     "name": "stdout",
     "output_type": "stream",
     "text": [
      "sample mean = 6.5\n"
     ]
    }
   ],
   "source": [
    "data = [6, 13, 5, 7, 7, 3, 7, 2, 5, 6, 9, 8]\n",
    "sum_data = sum(data)\n",
    "n = len(data)\n",
    "\n",
    "sm = sum_data/n\n",
    "print(f'sample mean = {sm}')"
   ]
  },
  {
   "attachments": {},
   "cell_type": "markdown",
   "metadata": {},
   "source": [
    "13. One-half the values of a sample are equal to 10, and the other half are equal to 20. What is the sample mean?\n",
    "\n",
    "sum of data set equal to ((n/2)*(10+20))/n = n(10+20)/2n = (10+20)/2 = 15\n",
    "\n",
    "### **ANSWER: sample mean = 15**"
   ]
  },
  {
   "attachments": {},
   "cell_type": "markdown",
   "metadata": {},
   "source": [
    "15. Half the values of a sample are equal to 10, one-sixth are equal to 20, and one-third are equal to 30. What is the sample mean?  \n",
    "### **ANSWER: 18.(3)**"
   ]
  },
  {
   "cell_type": "code",
   "execution_count": 8,
   "metadata": {},
   "outputs": [
    {
     "name": "stdout",
     "output_type": "stream",
     "text": [
      "total sample mean = 18.333333333333332\n"
     ]
    }
   ],
   "source": [
    "first_sm = 10\n",
    "second_sm = 20\n",
    "third_sm = 30\n",
    "\n",
    "part1 = 1/2\n",
    "part2 = 1/6\n",
    "part3 = 1/3\n",
    "\n",
    "total_sm = part1*first_sm + part2*second_sm + part3*third_sm\n",
    "\n",
    "print(f'total sample mean = {total_sm}')"
   ]
  },
  {
   "attachments": {},
   "cell_type": "markdown",
   "metadata": {},
   "source": [
    "17. A company runs two manufacturing plants. A sample of 30 engineers at plant 1 yielded a sample mean salary of $33,600. A sample of 20 engineers at plant 2 yielded a sample mean salary of $42,400. What is the sample mean salary for all 50 engineers?  \n",
    "### **ANSWER: 37.120$**"
   ]
  },
  {
   "cell_type": "code",
   "execution_count": 9,
   "metadata": {},
   "outputs": [
    {
     "name": "stdout",
     "output_type": "stream",
     "text": [
      "sample mean for 50 engineers = 37120$\n"
     ]
    }
   ],
   "source": [
    "n_sample1 = 30\n",
    "n_sample2 = 20\n",
    "n = n_sample1 + n_sample2\n",
    "sm1 = 33600\n",
    "sm2 = 42400\n",
    "part1 = n_sample1/n\n",
    "part2 = n_sample2/n\n",
    "\n",
    "total_sm = part1*sm1 + part2*sm2\n",
    "print(f'sample mean for 50 engineers = {int(total_sm)}$')"
   ]
  },
  {
   "attachments": {},
   "cell_type": "markdown",
   "metadata": {},
   "source": [
    "19. Find the deviations for each of the three data sets of Prob. 9, and verify your answers by showing that in each case the sum of the deviations is 0  \n",
    "### **ANSWER: all is ZERO**"
   ]
  },
  {
   "cell_type": "code",
   "execution_count": 10,
   "metadata": {},
   "outputs": [
    {
     "name": "stdout",
     "output_type": "stream",
     "text": [
      "first data devation = 0.0\n",
      "second data devation = 0.0\n",
      "third data devation = 0.0\n"
     ]
    }
   ],
   "source": [
    "first_data = [1, 2, 4, 7, 10, 12]\n",
    "second_data = [3, 6, 12, 21, 30, 36]\n",
    "third_data = [6, 7, 9, 12, 15, 17]\n",
    "\n",
    "# sample mean = sum / n\n",
    "first_sm = np.round(sum(first_data)/len(first_data), 2) \n",
    "second_sm = np.round(sum(second_data)/len(second_data), 2)\n",
    "third_sm = np.round(sum(third_data)/len(third_data), 2)\n",
    "\n",
    "# инициализация отклонений до расчетов\n",
    "first_deviation = 0\n",
    "second_deviation = 0\n",
    "third_deviation = 0\n",
    "\n",
    "# суммируем разность среднего и каждого значения в выборке\n",
    "for i in first_data:\n",
    "    first_deviation += first_sm - i\n",
    "\n",
    "for i in second_data:\n",
    "    second_deviation += second_sm - i\n",
    "\n",
    "for i in third_data:\n",
    "    third_deviation += third_sm - i\n",
    "\n",
    "print(f'first data devation = {first_deviation}')\n",
    "print(f'second data devation = {second_deviation}')\n",
    "print(f'third data devation = {third_deviation}')"
   ]
  },
  {
   "attachments": {},
   "cell_type": "markdown",
   "metadata": {},
   "source": [
    "# 3.3 Sample Median\n",
    "\n",
    "1. The following are the total yardages of a sample of 12 municipal golf\n",
    "courses:  \n",
    "7040, 6620, 6050, 6300, 7170, 5990, 6330, 6780, 6540, 6690, 6200, 6830\n",
    "\n",
    "(a) Find the sample median.  \n",
    "**ANSWER: 6580**  \n",
    "(b) Find the sample mean  \n",
    "**ANSWER: 6545**"
   ]
  },
  {
   "cell_type": "code",
   "execution_count": 11,
   "metadata": {},
   "outputs": [
    {
     "name": "stdout",
     "output_type": "stream",
     "text": [
      "median = 6580.0\n",
      "sample mean = 6545.0\n"
     ]
    }
   ],
   "source": [
    "data = [7040, 6620, 6050, 6300, 7170, 5990, 6330, 6780, 6540, 6690, 6200, 6830]\n",
    "median = np.median(data) # (a) сортируется и выбирается значение посередине при нечетн. кол-ве сумма двух серединных при четн. кол-ве\n",
    "sm = np.mean(data) # (b) сумма, деленная на кол-во элементов\n",
    "print(f'median = {median}')\n",
    "print(f'sample mean = {sm}')"
   ]
  },
  {
   "attachments": {},
   "cell_type": "markdown",
   "metadata": {},
   "source": [
    "3. If the median of the data set x(i), i = 1, ... , n, is 10, what is the median of\n",
    "the data set 2x(i) + 3, i = 1, ... , n?  \n",
    "\n",
    "### **The median will be equal to 2*10+3 = 23, since our previous element haven't changed his position and all elements have been changed to 2x(i)+3**"
   ]
  },
  {
   "attachments": {},
   "cell_type": "markdown",
   "metadata": {},
   "source": [
    "5. The following presents the male and female suicide rates per 100,000 population for a variety of countries.  \n",
    "\n",
    "(a) Find the sample median of the male suicide rates.  \n",
    "### **ANSWER: 22.0**\n",
    "(b) Find the sample median of the female suicide rates.  \n",
    "### **ANSWER: 8.1**\n",
    "(c) Find the sample mean of the male suicide rates.  \n",
    "### **ANSWER: 23.68**\n",
    "(d) Find the sample mean of the female suicide rates.  \n",
    "### **ANSWER: 9.68**"
   ]
  },
  {
   "cell_type": "code",
   "execution_count": 16,
   "metadata": {},
   "outputs": [
    {
     "name": "stdout",
     "output_type": "stream",
     "text": [
      "males median = 22.0\n",
      "females median = 8.1\n",
      "males sample mean = 23.68\n",
      "females sample mean = 9.68\n"
     ]
    }
   ],
   "source": [
    "males = [19.7, 18.2, 42.1, 20.5, 35.1, 33.1, 11.0, 27.8, 14.6, 22.0, 25.0, 12.1, 26.6]\n",
    "females = [5.4, 5.1, 15.8, 5.4, 20.6, 12.7, 4.3, 14.9, 8.1, 4.4, 11.5, 5.7, 12.0]\n",
    "\n",
    "m_median = np.round(np.median(males), 2)\n",
    "f_median = np.round(np.median(females), 2)\n",
    "m_sm = np.round(np.mean(males), 2)\n",
    "f_sm = np.round(np.mean(females), 2)\n",
    "\n",
    "print(f'males median = {m_median}')\n",
    "print(f'females median = {f_median}')\n",
    "print(f'males sample mean = {m_sm}')\n",
    "print(f'females sample mean = {f_sm}')"
   ]
  },
  {
   "attachments": {},
   "cell_type": "markdown",
   "metadata": {},
   "source": [
    "7. Find the sample median of the average annual number of inches of precipitation in the cities noted in Prob. 3 of Sec. 3.2.  \n",
    "### **ANSWER: 31.5**"
   ]
  },
  {
   "cell_type": "code",
   "execution_count": 109,
   "metadata": {},
   "outputs": [
    {
     "name": "stdout",
     "output_type": "stream",
     "text": [
      "median = 31.5\n"
     ]
    }
   ],
   "source": [
    "precipitation_data = [35.74, 31.50, 11.43, 15.31, 19.59, 44.76, 47.29, 12.08, 57.55, 59.74, 36.30, 29.13, 28.61]\n",
    "median = np.median(precipitation_data)\n",
    "print(f'median = {median}')"
   ]
  },
  {
   "attachments": {},
   "cell_type": "markdown",
   "metadata": {},
   "source": [
    "9. Use the table on death rates preceding Prob. 9 of Sec. 2.3 to find the sample median of the death rates due to  \n",
    "\n",
    "(a) Falls  \n",
    "### **ANSWER: 5.15**\n",
    "(b) Poisoning  \n",
    "### **ANSWER: 3.45**\n",
    "(c) Drowning  \n",
    "### **ANSWER: 1.5**"
   ]
  },
  {
   "cell_type": "code",
   "execution_count": 20,
   "metadata": {},
   "outputs": [
    {
     "name": "stdout",
     "output_type": "stream",
     "text": [
      "falls median = 5.15\n",
      "poisoning median = 3.45\n",
      "drowning median = 1.5\n"
     ]
    }
   ],
   "source": [
    "falls_data = [8.3, 5.9, 5.0, 4.9, 5.0, 5.0, 5., 5.2, 5.3, 5.6, 5.8, 6.0, 4.8, 4.8, 5.1, 5.2]\n",
    "poisoning_data = [2.6, 1.9, 2.2, 2.3, 2.6, 2.7, 3.4, 3.5, 3.4, 3.5, 3.8, 4.0, 4.5, 4.6, 5.0, 5.6]\n",
    "drowning_data = [3.9, 3.2, 2.2, 1.9, 1.8, 1.4, 1.5, 1.5, 1.7, 1.5, 1.5, 1.6, 1.3, 1.3, 1.2, 1.1]\n",
    "\n",
    "# я мог отсортировать и выбрать медиану по середине, но мне оч лень, Гаухар Сериковна(\n",
    "falls_median = np.round(np.median(falls_data), 2)\n",
    "poisoning_median = np.round(np.median(poisoning_data), 2)\n",
    "drowning_median = np.round(np.median(drowning_data), 2)\n",
    "\n",
    "print(f'falls median = {falls_median}')\n",
    "print(f'poisoning median = {poisoning_median}')\n",
    "print(f'drowning median = {drowning_median}')"
   ]
  },
  {
   "attachments": {},
   "cell_type": "markdown",
   "metadata": {},
   "source": [
    "11. The histogram in the figure on the following page describes the annual rainfall, in inches, over the last 34 years in a certain western city. Since the raw data are not recoverable from a histogram, we cannot use them to exactly compute the value of the sample mean and sample median. Still, based on this histogram,  \n",
    "what is the largest possible value of   \n",
    "\n",
    "(a) The sample mean?  \n",
    "### **ANSWER: 20.74**    \n",
    "(b) The sample median?  \n",
    "### **ANSWER: 20.5**  \n",
    "What is the smallest possible value of  \n",
    "(c) The sample mean?  \n",
    "### **ANSWER: 19.74**  \n",
    "(d) The sample median?  \n",
    "### **ANSWER: 19.5**  \n",
    "(e) The actual data follow:  \n",
    "### **ANSWER: sample mean = 20.21, median = 20.05**  \n",
    "[15.2, 16.1, 16.5, 16.7, 17.2, 17.5, 17.7, 18.3, 18.6, 18.8, 18.9, 19.1,  \n",
    "19.2, 19.2, 19.6, 19.8, 19.9, 20.2, 20.3, 20.3, 20.8, 21.1, 21.4, 21.7,  \n",
    "22.2, 22.5, 22.5, 22.7, 22.9, 23.3, 23.6, 24.1, 24.5, 24.9]  \n",
    "Determine the sample mean and sample median and see that they are\n",
    "consistent with your previous answers"
   ]
  },
  {
   "cell_type": "code",
   "execution_count": 46,
   "metadata": {},
   "outputs": [
    {
     "name": "stdout",
     "output_type": "stream",
     "text": [
      "smallest possible hist sample mean = 19.74\n",
      "largest possible hist sample mean = 20.74\n",
      "smallest possible hist median = 19.5\n",
      "largest possible hist median = 20.5\n",
      "sample mean = 20.21\n",
      "median = 20.05\n"
     ]
    }
   ],
   "source": [
    "hist_data = []\n",
    "hist_values = list(range(15, 25)) # вернет список [15, 16, ..., 23, 24]\n",
    "hist_counts = [1, 3, 3, 4, 6, 4, 3, 5, 2, 3] # количество вхождений (индексы соответствуют индексам значений)\n",
    "\n",
    "# сформируем предположительную исходную выборку в целых числах\n",
    "for i in range(len(hist_values)):\n",
    "    for j in range(hist_counts[i]):\n",
    "        hist_data.append(hist_values[i])\n",
    "\n",
    "hist_sm = np.round(sum(hist_data)/len(hist_data), 2)\n",
    "hist_median = np.round(np.median(hist_data), 2) \n",
    "\n",
    "print(f'smallest possible hist sample mean = {hist_sm}') # предполагаем, что все значения целочисленные — X.0\n",
    "print(f'largest possible hist sample mean = {hist_sm + 1}') # предполагаем, что числа после запятой максимально велики — X.(9)\n",
    "\n",
    "print(f'smallest possible hist median = {hist_median}')\n",
    "print(f'largest possible hist median = {hist_median+1}')\n",
    "\n",
    "data = [15.2, 16.1, 16.5, 16.7, 17.2, 17.5, 17.7, 18.3, \n",
    "    18.6, 18.8, 18.9, 19.1, 19.2, 19.2, 19.6, 19.8, 19.9, \n",
    "    20.2, 20.3, 20.3, 20.8, 21.1, 21.4, 21.7, 22.2, 22.5, \n",
    "    22.5, 22.7, 22.9, 23.3, 23.6, 24.1, 24.5, 24.9]\n",
    "\n",
    "# основываясь на фактических данных\n",
    "data_sm = np.round(np.mean(data), 2)\n",
    "data_median = np.round(np.median(data), 2)\n",
    "\n",
    "print(f'sample mean = {data_sm}')\n",
    "print(f'median = {data_median}')\n"
   ]
  },
  {
   "attachments": {},
   "cell_type": "markdown",
   "metadata": {},
   "source": [
    "13. Using the data from Example 3.4, compute the sample medians of the severity of head injuries suffered by motorcycle operators who were wearing and who were not wearing helmets.  \n",
    "### **ANSWER: The value of both medians is equal 0, because >= 50% of observations is 0**"
   ]
  },
  {
   "attachments": {},
   "cell_type": "markdown",
   "metadata": {},
   "source": [
    "15. Women make up the following percentages of the workforce in the 14 occupations listed.\n",
    "For these percentages find  \n",
    "(a) The sample mean **ANSWER: 32.52**  \n",
    "(b) The sample median **ANSWER: 24.25**  \n",
    "It also turns out that women make up 44.4 percent of the total workforce for these occupations. Is this consistent with your answers in (a) and (b)? Explain!  \n",
    "### **ANSWER: As in one of the previous problems with weights, it also depends on number of values in sample**"
   ]
  },
  {
   "cell_type": "code",
   "execution_count": 54,
   "metadata": {},
   "outputs": [
    {
     "name": "stdout",
     "output_type": "stream",
     "text": [
      "sample mean = 32.52\n",
      "median = 24.25\n"
     ]
    }
   ],
   "source": [
    "data = [36.8, 94.3, 30.5, 68.6, 1.9, 41.5, 2.8, 17.6, 18.0, 85.2, 43.5, 10.9, 1.6, 2.1]\n",
    "data_sm = np.round(np.mean(data_sm), 2)\n",
    "data_median = np.round(np.median(data), 2)\n",
    "print(f'sample mean = {data_sm}')\n",
    "print(f'median = {data_median}')"
   ]
  },
  {
   "attachments": {},
   "cell_type": "markdown",
   "metadata": {},
   "source": [
    "17. The following table gives the median age at first marriage in the years 1992 to 2002.  \n",
    "(a) Find the sample median of the men’s median age.  \n",
    "### **ANSWER: 26.8**  \n",
    "(b) Find the sample median of the women’s median age.  \n",
    "### **ANSWER: 25.0**  "
   ]
  },
  {
   "cell_type": "code",
   "execution_count": 56,
   "metadata": {},
   "outputs": [
    {
     "name": "stdout",
     "output_type": "stream",
     "text": [
      "women median = 25.0\n",
      "men median = 26.8\n"
     ]
    }
   ],
   "source": [
    "women = [25.3, 25.1, 25.1, 25.1, 25.0, 25.0, 24.8, 24.5, 24.5, 24.5, 24.4]\n",
    "men = [26.9, 26.9, 26.8, 26.9, 26.7, 26.8, 27.1, 26.9, 26.7, 26.5, 26.5]\n",
    "\n",
    "w_median = np.round(np.median(women), 2)\n",
    "m_median = np.round(np.median(men), 2)\n",
    "\n",
    "print(f'women median = {w_median}')\n",
    "print(f'men median = {m_median}')"
   ]
  },
  {
   "attachments": {},
   "cell_type": "markdown",
   "metadata": {},
   "source": [
    "# 3.4 Sample mode\n",
    "  \n",
    "1. Match each statement in the left-hand column with the correct data set\n",
    "from the right-hand column.  \n",
    "\n",
    "1) Sample mode is 9  \n",
    "2) Sample mean is 9  \n",
    "3) Sample median is 9   \n",
    "A) 5, 7, 8, 10, 13, 14   \n",
    "B) 1, 2, 5, 9, 9, 15  \n",
    "C) 1, 2, 9, 12, 12, 18  \n",
    "\n",
    "### **ANSWER: 1-B, 2-C, 3-A**"
   ]
  },
  {
   "attachments": {},
   "cell_type": "markdown",
   "metadata": {},
   "source": [
    "### пришлось парсить книжку и запихивать данные в эксель. могу за поинты сделать еще =)) во благо лени\n",
    "3. Using data concerning the first 100 students in App. A, find the sample mode for  \n",
    "(a) Weight  \n",
    "### **ANSWER: [126]**  \n",
    "(b) Blood pressure  \n",
    "### **ANSWER: [110, 102, 114]**  \n",
    "(c) Cholesterol  \n",
    "### **ANSWER: [196]**  "
   ]
  },
  {
   "cell_type": "code",
   "execution_count": 95,
   "metadata": {},
   "outputs": [
    {
     "data": {
      "text/html": [
       "<div>\n",
       "<style scoped>\n",
       "    .dataframe tbody tr th:only-of-type {\n",
       "        vertical-align: middle;\n",
       "    }\n",
       "\n",
       "    .dataframe tbody tr th {\n",
       "        vertical-align: top;\n",
       "    }\n",
       "\n",
       "    .dataframe thead th {\n",
       "        text-align: right;\n",
       "    }\n",
       "</style>\n",
       "<table border=\"1\" class=\"dataframe\">\n",
       "  <thead>\n",
       "    <tr style=\"text-align: right;\">\n",
       "      <th></th>\n",
       "      <th>Student</th>\n",
       "      <th>Weight</th>\n",
       "      <th>Cholesterol</th>\n",
       "      <th>Pressure</th>\n",
       "      <th>Gender</th>\n",
       "    </tr>\n",
       "  </thead>\n",
       "  <tbody>\n",
       "    <tr>\n",
       "      <th>0</th>\n",
       "      <td>1</td>\n",
       "      <td>147</td>\n",
       "      <td>213</td>\n",
       "      <td>127</td>\n",
       "      <td>F</td>\n",
       "    </tr>\n",
       "    <tr>\n",
       "      <th>1</th>\n",
       "      <td>2</td>\n",
       "      <td>156</td>\n",
       "      <td>174</td>\n",
       "      <td>116</td>\n",
       "      <td>M</td>\n",
       "    </tr>\n",
       "    <tr>\n",
       "      <th>2</th>\n",
       "      <td>3</td>\n",
       "      <td>112</td>\n",
       "      <td>193</td>\n",
       "      <td>110</td>\n",
       "      <td>F</td>\n",
       "    </tr>\n",
       "    <tr>\n",
       "      <th>3</th>\n",
       "      <td>4</td>\n",
       "      <td>127</td>\n",
       "      <td>196</td>\n",
       "      <td>110</td>\n",
       "      <td>F</td>\n",
       "    </tr>\n",
       "    <tr>\n",
       "      <th>4</th>\n",
       "      <td>5</td>\n",
       "      <td>144</td>\n",
       "      <td>220</td>\n",
       "      <td>130</td>\n",
       "      <td>F</td>\n",
       "    </tr>\n",
       "    <tr>\n",
       "      <th>5</th>\n",
       "      <td>6</td>\n",
       "      <td>140</td>\n",
       "      <td>183</td>\n",
       "      <td>99</td>\n",
       "      <td>M</td>\n",
       "    </tr>\n",
       "    <tr>\n",
       "      <th>6</th>\n",
       "      <td>7</td>\n",
       "      <td>119</td>\n",
       "      <td>194</td>\n",
       "      <td>112</td>\n",
       "      <td>F</td>\n",
       "    </tr>\n",
       "    <tr>\n",
       "      <th>7</th>\n",
       "      <td>8</td>\n",
       "      <td>139</td>\n",
       "      <td>200</td>\n",
       "      <td>102</td>\n",
       "      <td>F</td>\n",
       "    </tr>\n",
       "    <tr>\n",
       "      <th>8</th>\n",
       "      <td>9</td>\n",
       "      <td>161</td>\n",
       "      <td>192</td>\n",
       "      <td>121</td>\n",
       "      <td>M</td>\n",
       "    </tr>\n",
       "    <tr>\n",
       "      <th>9</th>\n",
       "      <td>10</td>\n",
       "      <td>146</td>\n",
       "      <td>200</td>\n",
       "      <td>125</td>\n",
       "      <td>F</td>\n",
       "    </tr>\n",
       "  </tbody>\n",
       "</table>\n",
       "</div>"
      ],
      "text/plain": [
       "   Student  Weight  Cholesterol  Pressure Gender\n",
       "0        1     147          213       127      F\n",
       "1        2     156          174       116      M\n",
       "2        3     112          193       110      F\n",
       "3        4     127          196       110      F\n",
       "4        5     144          220       130      F\n",
       "5        6     140          183        99      M\n",
       "6        7     119          194       112      F\n",
       "7        8     139          200       102      F\n",
       "8        9     161          192       121      M\n",
       "9       10     146          200       125      F"
      ]
     },
     "execution_count": 95,
     "metadata": {},
     "output_type": "execute_result"
    }
   ],
   "source": [
    "data = pd.read_excel('./appendix_A.xlsx')\n",
    "data.head(10)"
   ]
  },
  {
   "cell_type": "code",
   "execution_count": 107,
   "metadata": {},
   "outputs": [
    {
     "name": "stdout",
     "output_type": "stream",
     "text": [
      "weight modes = [126]\n",
      "pressure modes = [110, 102, 114]\n",
      "cholesterol modes = [196]\n"
     ]
    }
   ],
   "source": [
    "weight_data = data['Weight'][0:100]\n",
    "pressure_data = data['Pressure'][0:100]\n",
    "cholesterol_data = data['Cholesterol'][0:100]\n",
    "\n",
    "\n",
    "weight_mode = statistics.multimode(weight_data)\n",
    "pressure_mode = statistics.multimode(pressure_data)\n",
    "cholesterol_mode = statistics.multimode(cholesterol_data)\n",
    "\n",
    "print(f'weight modes = {weight_mode}')\n",
    "print(f'pressure modes = {pressure_mode}')\n",
    "print(f'cholesterol modes = {cholesterol_mode}')"
   ]
  },
  {
   "attachments": {},
   "cell_type": "markdown",
   "metadata": {},
   "source": [
    "5. Construct a data set for which the sample mean is 10, the sample median is 8, and the sample mode is 6.  \n",
    "### **ANSWER: [6, 6, 6, 7, 9, 10, 12, 24] (below is a check)**"
   ]
  },
  {
   "cell_type": "code",
   "execution_count": 108,
   "metadata": {},
   "outputs": [
    {
     "name": "stdout",
     "output_type": "stream",
     "text": [
      "sample mean = 10.0\n",
      "sample median = 8.0\n",
      "sample mode = 6\n"
     ]
    }
   ],
   "source": [
    "data = [6, 6, 6, 7, 9, 10, 12, 24]\n",
    "sm = np.mean(data)\n",
    "median = np.median(data)\n",
    "mode = statistics.mode(data)\n",
    "\n",
    "print(f'sample mean = {sm}')\n",
    "print(f'sample median = {median}')\n",
    "print(f'sample mode = {mode}')"
   ]
  },
  {
   "attachments": {},
   "cell_type": "markdown",
   "metadata": {},
   "source": [
    "7. Joggers use a quarter-mile track around an athletic field. In a sample of 17 joggers, 1 did 2 loops, 4 did 4 loops, 5 did 6 loops, 6 did 8 loops, and 1 did 12 loops.  \n",
    "(a) What is the sample mode of the number of loops run by these joggers?  \n",
    "### **ANSWER: mode is <u>8 loops</u>**  \n",
    "(b) What is the sample mode of the distances run by these joggers?  \n",
    "### **ANSWER: mode is 8 * 0.25 = <u>2 miles</u>**"
   ]
  },
  {
   "attachments": {},
   "cell_type": "markdown",
   "metadata": {},
   "source": [
    "# 3.5 Sample Variance and Sample Standard Deviation"
   ]
  },
  {
   "attachments": {},
   "cell_type": "markdown",
   "metadata": {},
   "source": [
    "1. The following data give the per capita consumption of milk in the years from 1983 to 1987. The data are from the U.S. Department of Agriculture, Food Consumption, Prices, and Expenditures, annual  \n",
    "Find the sample mean and the sample variance of this set.\n",
    "### *ANSWER: s² = 0.0375*"
   ]
  },
  {
   "cell_type": "code",
   "execution_count": 9,
   "metadata": {},
   "outputs": [
    {
     "name": "stdout",
     "output_type": "stream",
     "text": [
      "s^2 = 0.0375\n"
     ]
    }
   ],
   "source": [
    "data = [26.3, 26.2, 26.4, 26.3, 25.9]\n",
    "\n",
    "# алгоритм следующий: ищем сумму квадратичных отклонений и делим на n-1, где n - количество значений в выборке\n",
    "n = len(data)\n",
    "# 1) для начала найдем выборочное среднее(sample mean)\n",
    "mean = sum(data)/n\n",
    "\n",
    "# 2) пройдемся по всем элементам выборки и вычтем среднее выборочное, возводя это все в квадрат \n",
    "#   и при этом суммирая это все\n",
    "quadratic_diff_sum = 0\n",
    "\n",
    "for xi in data:\n",
    "    quadratic_diff_sum += np.round((xi - mean)**2, 2)\n",
    "\n",
    "sample_variance = np.round(quadratic_diff_sum/(n-1), 4)\n",
    "print(f's^2 = {sample_variance}')"
   ]
  },
  {
   "attachments": {},
   "cell_type": "markdown",
   "metadata": {},
   "source": [
    "7. Find the sample variance of the populations of the first 17 locales.\n",
    "### *ANSWER: s² = ~66158525399598*"
   ]
  },
  {
   "cell_type": "code",
   "execution_count": 28,
   "metadata": {},
   "outputs": [
    {
     "name": "stdout",
     "output_type": "stream",
     "text": [
      "s^2 = 66158525399598.16\n"
     ]
    }
   ],
   "source": [
    "data = [36756666, 24326974, 19490297, 18328340, 12901563, 12448279, 11485910, 10003422, \n",
    "        9685744, 9222414, 8682661, 7769089, 6549224, 6500180, 6497967, 6376792, 6214888]\n",
    "\n",
    "n = len(data)\n",
    "mean = sum(data)/n\n",
    "quadratic_diff_sum = 0\n",
    "\n",
    "for xi in data:\n",
    "    quadratic_diff_sum += np.round((xi - mean)**2, 2)\n",
    "\n",
    "sample_variance = np.round(quadratic_diff_sum/(n-1), 2)\n",
    "print(f's^2 = {sample_variance}')"
   ]
  },
  {
   "attachments": {},
   "cell_type": "markdown",
   "metadata": {},
   "source": [
    "17. The following data represent the acidity of 40 successive rainfalls in  \n",
    "the state of Minnesota. The acidity is measured on a pH scale, which  \n",
    "varies from 1 (very acidic) to 7 (neutral).  \n",
    "\n",
    "3.71, 4.23, 4.16, 2.98, 3.23, 4.67, 3.99, 5.04, 4.55, 3.24, 2.80, 3.44,  \n",
    "3.27, 2.66, 2.95, 4.70, 5.12, 3.77, 3.12, 2.38, 4.57, 3.88, 2.97, 3.70, 2.53, 2.67,  \n",
    "4.12, 4.80, 3.55, 3.86, 2.51, 3.33, 3.85, 2.35, 3.12, 4.39, 5.09, 3.38, 2.73, 3.07  \n",
    "\n",
    "(a) Find the sample standard deviation.  \n",
    "### *ANSWER: 0.8*\n",
    "(b) Find the range.  \n",
    "### *ANSWER: 2.77*\n",
    "(c) Find the interquartile range  \n",
    "### *ANSWER: 1.22*"
   ]
  },
  {
   "cell_type": "code",
   "execution_count": 52,
   "metadata": {},
   "outputs": [
    {
     "name": "stdout",
     "output_type": "stream",
     "text": [
      "standard deviation = 0.8\n",
      "range = 2.77\n",
      "IQR(interquartile range) = 1.22\n"
     ]
    }
   ],
   "source": [
    "data = [3.71, 4.23, 4.16, 2.98, 3.23, 4.67, 3.99, 5.04, 4.55, 3.24, 2.80, 3.44,  \n",
    "3.27, 2.66, 2.95, 4.70, 5.12, 3.77, 3.12, 2.38, 4.57, 3.88, 2.97, 3.70, 2.53, 2.67,  \n",
    "4.12, 4.80, 3.55, 3.86, 2.51, 3.33, 3.85, 2.35, 3.12, 4.39, 5.09, 3.38, 2.73, 3.07]\n",
    "\n",
    "# стандартное отклонение вычисляется так же, как и дисперсия, \n",
    "# но при этом дисперсию следует взять под квадратный корень. так и получим standard deviation (sd)\n",
    "\n",
    "# функция возвращает дисперсию (sample variance). берем ее под квадратный корень и округляем до сотых\n",
    "sd = np.round(statistics.variance(data)**0.5, 2)\n",
    "print(f'standard deviation = {sd}')\n",
    "\n",
    "data_range = max(data) - min(data) # range(размах) по определнию - разность между максимальным и минимальным элементами\n",
    "print(f'range = {data_range}')\n",
    "\n",
    "# для интерквартильного размаха нам следует отсортировать выборку\n",
    "data.sort()\n",
    "# определить 1-й и 3-й квартили(2-й - медиана)\n",
    "# 1-3 квартили делят выборку на 1/4, 1/2, 3/4 частей соответственно\n",
    "# количество элементов в нашем массиве = 40, следовательно:\n",
    "# 1 квартиль = среднему 10-го и 11-го элементов (по индексу -1)\n",
    "Q1 = np.round((data[9]+data[10])/2, 2)\n",
    "# 2 квартиль = среднему 20 и 21 элементов\n",
    "Q2 = np.round((data[19]+data[20])/2, 2)\n",
    "# 3 квартиль = среднему 30 и 31 элементов\n",
    "Q3 = np.round((data[29]+data[30])/2, 2)\n",
    "# найти между ними разницу\n",
    "IQR = np.round(Q3 - Q1, 2)\n",
    "print(f'IQR(interquartile range) = {IQR}')"
   ]
  },
  {
   "attachments": {},
   "cell_type": "markdown",
   "metadata": {},
   "source": [
    "# 3.6 Normal Data Sets and the Empirical Rule"
   ]
  },
  {
   "attachments": {},
   "cell_type": "markdown",
   "metadata": {},
   "source": [
    "1. The daily numbers of animals treated at a certain veterinarian clinic over a 24-day period are as follows:  \n",
    "22, 17, 19, 31, 28, 29, 21, 33, 36, 24, 15, 28, \n",
    "25, 28, 22, 27, 33, 19, 25, 28, 26, 20, 30, 32  \n",
    "\n",
    "(a) Plot these data in a histogram.  \n",
    "### ***ANSWER: BELOW***  \n",
    "(b) Find the sample mean.  \n",
    "### ***ANSWER: 25.75*** \n",
    "(c) Find the sample median.  \n",
    "### ***ANSWER: 26.5***  \n",
    "(d) Is this data set approximately normal?  \n",
    "### ***ANSWER: No, there is antisymmetry is clearly visible***  "
   ]
  },
  {
   "cell_type": "code",
   "execution_count": 109,
   "metadata": {},
   "outputs": [
    {
     "name": "stdout",
     "output_type": "stream",
     "text": [
      "sample mean = 25.75\n",
      "median = 26.5\n"
     ]
    },
    {
     "data": {
      "image/png": "[encoded data removed]",
      "text/plain": [
       "<Figure size 1000x700 with 1 Axes>"
      ]
     },
     "metadata": {},
     "output_type": "display_data"
    }
   ],
   "source": [
    "data = [22, 17, 19, 31, 28, 29, 21, 33, 36, 24, 15, 28, \n",
    "25, 28, 22, 27, 33, 19, 25, 28, 26, 20, 30, 32]\n",
    "\n",
    "fig, ax = plt.subplots(figsize=(10, 7), facecolor='gray')\n",
    "ax.set_facecolor('beige')\n",
    "bins = [i for i in np.arange(10, 50, 3)]\n",
    "ax.hist(data, bins, facecolor='b', alpha=0.7, edgecolor='k')\n",
    "\n",
    "sample_mean = np.mean(data)\n",
    "print(f'sample mean = {sample_mean}')\n",
    "\n",
    "median = np.median(data)\n",
    "print(f'median = {median}')"
   ]
  },
  {
   "attachments": {},
   "cell_type": "markdown",
   "metadata": {},
   "source": [
    "9. If the histogram is skewed to the right, which statistic will be larger—  \n",
    "the sample mean or the sample median? (Hint : If you are not certain,  \n",
    "construct a data set that is skewed to the right and then calculate the  \n",
    "sample mean and sample median.)  \n",
    "### ***ANSWER: I think sample mean***"
   ]
  },
  {
   "attachments": {},
   "cell_type": "markdown",
   "metadata": {},
   "source": [
    "11. Using the data on the first 25 states,  \n",
    "\n",
    "(a) Plot the data in a histogram.  \n",
    "### ***ANSWER: BELOW***  \n",
    "(b) Compute the sample mean.  \n",
    "### ***ANSWER:***  \n",
    "(c) Compute the sample median.  \n",
    "### ***ANSWER:***  \n",
    "(d) Compute the sample variance.  \n",
    "### ***ANSWER:***  \n",
    "(e) Are the data approximately normal?  \n",
    "### ***ANSWER: Сначала я не поверил, а потом КАААК снова не поверил***\n",
    "### ***(80% находится в интервале на 1 стандартное отклонение вместо 68%) не дело***  \n",
    "(f) Use the empirical rule to give an interval which should contain\n",
    "approximately 68 percent of the observations.  \n",
    "### ***ANSWER: 68% of the observations between 22774.29 and 30358.67***  \n",
    "(g) Use the empirical rule to give an interval which should contain\n",
    "approximately 95 percent of the observations.  \n",
    "### ***ANSWER: 95% of the observations between 18982.1 and 34150.86***  \n",
    "(h) Determine the actual proportion of observations in the interval\n",
    "specified in (f).    \n",
    "### ***ANSWER: actual proportions for ONE SD(standard deviation) is 80%***  \n",
    "(i) Determine the actual proportion of observations in the interval\n",
    "specified in (g).  \n",
    "### ***ANSWER: actual proportions for TWO SD is 96%***  "
   ]
  },
  {
   "cell_type": "code",
   "execution_count": 177,
   "metadata": {},
   "outputs": [
    {
     "name": "stdout",
     "output_type": "stream",
     "text": [
      "sample mean = 26566.48\n",
      "sample median = 25949.0\n",
      "sample variance = 14380736.59\n",
      "68% of the observations between 22774.29 and 30358.67\n",
      "95% of the observations between 18982.1 and 34150.86\n",
      "actual proportions for ONE SD is 80.0% (too much)\n",
      "actual proportions for TWO SD is 96.0% (not bad)\n"
     ]
    },
    {
     "data": {
      "image/png": "[encoded data removed]",
      "text/plain": [
       "<Figure size 1000x700 with 1 Axes>"
      ]
     },
     "metadata": {},
     "output_type": "display_data"
    }
   ],
   "source": [
    "data = [27857, 22624, 28947, 23573, 21169, 29707, 29959, 38450, 29512, 26646, 25949, 27011, 22560, \n",
    "        30075, 25425, 25461, 32451, 24949, 24293, 26474, 23026, 25867, 26237, 23030, 22910]\n",
    "\n",
    "fig, ax = plt.subplots(figsize=(10, 7), facecolor='gray')\n",
    "ax.set_facecolor('beige')\n",
    "bins = [i for i in np.arange(20000, 38000, 1000)] \n",
    "ax.hist(data, bins, facecolor='b', alpha=0.7, edgecolor='k') # группировка в разрыве по тысячам\n",
    "\n",
    "mean = np.mean(data)\n",
    "print(f'sample mean = {mean}')\n",
    "\n",
    "median = np.median(data)\n",
    "print(f'sample median = {median}')\n",
    "\n",
    "variance = np.round(statistics.variance(data), 2)\n",
    "print(f'sample variance = {variance}')\n",
    "\n",
    "sd = np.round(variance**0.5, 2)\n",
    "left68 = mean - sd\n",
    "right68 = mean + sd\n",
    "print(f'68% of the observations between {left68} and {right68}')\n",
    "\n",
    "left95 = mean - 2*sd\n",
    "right95 = mean + 2*sd\n",
    "print(f'95% of the observations between {left95} and {right95}')\n",
    "\n",
    "actual_prop68_data = [] # создаем список, куда будем записывать значение, соответсвующие интервалу 68% наблюдений\n",
    "for val in data:\n",
    "    if left68 <= val <= right68: # проверяем, находится ли элемент в данном интервале\n",
    "        actual_prop68_data.append(val)\n",
    "\n",
    "actual_prop95_data = []\n",
    "for val in data:\n",
    "    if left95 <= val <= right95:\n",
    "        actual_prop95_data.append(val)\n",
    "\n",
    "actual_prop68 = len(actual_prop68_data)/len(data)\n",
    "actual_prop95 = len(actual_prop95_data)/len(data)\n",
    "print(f'actual proportions for ONE SD is {actual_prop68*100}% (too much)')\n",
    "print(f'actual proportions for TWO SD is {actual_prop95*100}% (not bad)')"
   ]
  },
  {
   "attachments": {},
   "cell_type": "markdown",
   "metadata": {},
   "source": [
    "# 3.7 Sample Correlation Coefficient"
   ]
  },
  {
   "attachments": {},
   "cell_type": "markdown",
   "metadata": {},
   "source": [
    "3. The following data represent the IQ scores of 10 mothers and their  \n",
    "eldest daughters.  \n",
    "(a) Draw a scatter diagram.  \n",
    "### ***ANSWER: BELOW***  \n",
    "(b) Guess at the value of the sample correlation coefficient r.  \n",
    "### ***ANSWER: I think 1, because looks like a linear relationship f(x) = x***  \n",
    "(c) Compute r.  \n",
    "### ***ANSWER: 0.86***  \n",
    "(d) What conclusions can you draw about the relationship between  \n",
    "the mother’s and daughter’s IQs?  \n",
    "### ***ANSWER: IQ values are linearly dependent with a coefficient of 0.86***   "
   ]
  },
  {
   "cell_type": "code",
   "execution_count": 209,
   "metadata": {},
   "outputs": [
    {
     "name": "stdout",
     "output_type": "stream",
     "text": [
      "r = 0.86\n",
      "uncerainty = 0.22%\n"
     ]
    },
    {
     "data": {
      "image/png": "[encoded data removed]",
      "text/plain": [
       "<Figure size 1000x700 with 1 Axes>"
      ]
     },
     "metadata": {},
     "output_type": "display_data"
    }
   ],
   "source": [
    "mothers_IQ = [135, 127, 124, 120, 115, 112, 104, 96, 94, 85]\n",
    "daughters_IQ = [121, 131, 112, 115, 99, 118, 106, 89, 92, 90]\n",
    "\n",
    "fig, ax = plt.subplots(figsize=(10, 7), facecolor='gray')\n",
    "ax.set_facecolor('beige')\n",
    "ax.scatter(mothers_IQ, daughters_IQ, s=200, color='b', alpha=0.7, edgecolor='k')\n",
    "\n",
    "n = len(mothers_IQ)\n",
    "\n",
    "mothers_mean = np.mean(mothers_IQ)\n",
    "daughters_mean = np.mean(daughters_IQ)\n",
    "\n",
    "sum_diff_means_product = 0 # sum(    (x(i) - mean_X) * (y(i) - mean_Y)    )\n",
    "sum_diff_mean_x_square = 0 # sum(    (x(i) - mean_X)^2    )\n",
    "sum_diff_mean_y_square = 0 # sum(    (y(i) - mean_Y)^2    )\n",
    "\n",
    "x = mothers_IQ\n",
    "y = daughters_IQ\n",
    "x_mean = mothers_mean\n",
    "y_mean = daughters_mean\n",
    "\n",
    "for i in range(n): # mothers - X, daughters - Y\n",
    "    sum_diff_means_product += (x[i] - x_mean)*(y[i]-y_mean)\n",
    "    sum_diff_mean_x_square += (x[i] - x_mean)**2\n",
    "    sum_diff_mean_y_square += (y[i] - y_mean)**2\n",
    "\n",
    "r = sum_diff_means_product / (sum_diff_mean_x_square*sum_diff_mean_y_square)**0.5\n",
    "r = np.round(r, 2)\n",
    "uncertainty = statistics.correlation(x, y) - r\n",
    "print(f'r = {r}\\nuncerainty = {np.round(uncertainty*100, 2)}%')"
   ]
  },
  {
   "attachments": {},
   "cell_type": "markdown",
   "metadata": {},
   "source": [
    "7. The following data relate the number of criminal cases filed in various  \n",
    "U.S. cities to the percentage of those cases that result in a plea of guilty.  \n",
    "\n",
    "Determine the sample correlation coefficient between the number of  \n",
    "cases filed and the percentage of guilty pleas. What can you say about  \n",
    "the degree of association between these two variables for these data?  \n",
    "### ***ANSWER: r = -0.44. I noticed that the higher the number of cases, the fewer guilty pleas. And vice versa the same, but there I don't see linear relationship***"
   ]
  },
  {
   "cell_type": "code",
   "execution_count": 219,
   "metadata": {},
   "outputs": [
    {
     "name": "stdout",
     "output_type": "stream",
     "text": [
      "r = -0.44\n"
     ]
    },
    {
     "data": {
      "image/png": "[encoded data removed]",
      "text/plain": [
       "<Figure size 1000x700 with 1 Axes>"
      ]
     },
     "metadata": {},
     "output_type": "display_data"
    }
   ],
   "source": [
    "number_criminal_cases = [11534, 14784, 3892, 35528, 3772, 13796, 1358, 3649, 1312, 2879, 2745]\n",
    "percentage_guilty_plea = [73, 72, 62, 41, 68, 26, 68, 63, 60, 50, 61]\n",
    "\n",
    "fig, ax = plt.subplots(figsize=(10, 7), facecolor='gray')\n",
    "ax.set_facecolor('beige')\n",
    "ax.scatter(number_criminal_cases, percentage_guilty_plea, s=200, color='b', alpha=0.5, edgecolor='k')\n",
    "\n",
    "n = len(percentage_guilty_plea)\n",
    "\n",
    "cases_mean = np.mean(number_criminal_cases)\n",
    "pleas_mean = np.mean(percentage_guilty_plea)\n",
    "\n",
    "sum_diff_means_product = 0\n",
    "sum_diff_mean_x_square = 0\n",
    "sum_diff_mean_y_square = 0\n",
    "\n",
    "x = number_criminal_cases\n",
    "y = percentage_guilty_plea\n",
    "x_mean = cases_mean\n",
    "y_mean = pleas_mean\n",
    "\n",
    "for i in range(n): # cases - X, guilty pleas - Y\n",
    "    sum_diff_means_product += (x[i] - x_mean)*(y[i]-y_mean)\n",
    "    sum_diff_mean_x_square += (x[i] - x_mean)**2\n",
    "    sum_diff_mean_y_square += (y[i] - y_mean)**2\n",
    "\n",
    "r = sum_diff_means_product / (sum_diff_mean_x_square*sum_diff_mean_y_square)**0.5\n",
    "r = np.round(r, 2)\n",
    "print(f'r = {r}')"
   ]
  }
 ],
 "metadata": {
  "kernelspec": {
   "display_name": "Python 3",
   "language": "python",
   "name": "python3"
  },
  "language_info": {
   "codemirror_mode": {
    "name": "ipython",
    "version": 3
   },
   "file_extension": ".py",
   "mimetype": "text/x-python",
   "name": "python",
   "nbconvert_exporter": "python",
   "pygments_lexer": "ipython3",
   "version": "3.11.1"
  },
  "orig_nbformat": 4,
  "vscode": {
   "interpreter": {
    "hash": "31588f4d8db5afbc72e0dbd1f4a0fd0b05fdd2de9b12b750bc3d928cd9a0951c"
   }
  }
 },
 "nbformat": 4,
 "nbformat_minor": 2
}
